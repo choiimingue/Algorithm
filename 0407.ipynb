{
 "cells": [
  {
   "attachments": {},
   "cell_type": "markdown",
   "metadata": {},
   "source": [
    "# 0407"
   ]
  },
  {
   "attachments": {},
   "cell_type": "markdown",
   "metadata": {},
   "source": [
    "## 중복된 숫자 개수\n",
    "link : https://school.programmers.co.kr/learn/courses/30/lessons/120583?language=python3\n",
    "\n",
    "### 문제 설명\n",
    "정수가 담긴 배열 array와 정수 n이 매개변수로 주어질 때, array에 n이 몇 개 있는 지를 return 하도록 solution 함수를 완성해보세요.\n",
    "\n",
    "### 입출력 예 설명\n",
    "**입출력 예 #1**\n",
    "[1, 1, 2, 3, 4, 5] 에는 1이 2개 있습니다.\n",
    "\n",
    "**입출력 예 #2**\n",
    "[0, 2, 3, 4] 에는 1이 0개 있습니다."
   ]
  },
  {
   "cell_type": "code",
   "execution_count": 1,
   "metadata": {},
   "outputs": [],
   "source": [
    "def solution(array, n):\n",
    "    return array.count(n)"
   ]
  },
  {
   "cell_type": "code",
   "execution_count": 2,
   "metadata": {},
   "outputs": [],
   "source": [
    "from collections import Counter\n",
    "\n",
    "def solution(array, n):\n",
    "    return Counter(array).get(n)"
   ]
  },
  {
   "cell_type": "code",
   "execution_count": 3,
   "metadata": {},
   "outputs": [],
   "source": [
    "# None인 경우 처리\n",
    "from collections import Counter\n",
    "\n",
    "def solution(array, n):\n",
    "    value = Counter(array).get(n)\n",
    "    return 0 if value == None else value"
   ]
  },
  {
   "attachments": {},
   "cell_type": "markdown",
   "metadata": {},
   "source": [
    "## 머쓱이보다 키 큰 사람\n",
    "link : https://school.programmers.co.kr/learn/courses/30/lessons/120585\n",
    "\n",
    "### 문제 설명\n",
    "머쓱이는 학교에서 키 순으로 줄을 설 때 몇 번째로 서야 하는지 궁금해졌습니다. 머쓱이네 반 친구들의 키가 담긴 정수 배열 array와 머쓱이의 키 height가 매개변수로 주어질 때, 머쓱이보다 키 큰 사람 수를 return 하도록 solution 함수를 완성해보세요.\n",
    "\n",
    "### 입출력 예 설명\n",
    "**입출력 예 #1**\n",
    "149, 180, 192, 170 중 머쓱이보다 키가 큰 사람은 180, 192, 170으로 세 명입니다.\n",
    "\n",
    "**입출력 예 #2**\n",
    "180, 120, 140 중 190보다 큰 수는 없으므로 0명입니다."
   ]
  },
  {
   "cell_type": "code",
   "execution_count": 20,
   "metadata": {},
   "outputs": [
    {
     "data": {
      "text/plain": [
       "2550"
      ]
     },
     "execution_count": 20,
     "metadata": {},
     "output_type": "execute_result"
    }
   ],
   "source": [
    "# 1부터 100까지 수 중에 2의 배수들을 다 더한 값\n",
    "sum(filter(lambda x : x % 2 == 0, range(1, 101)))\n",
    "sum(filter(lambda x : x, range(2, 102, 2)))\n",
    "sum(range(2, 102, 2))"
   ]
  },
  {
   "cell_type": "code",
   "execution_count": 11,
   "metadata": {},
   "outputs": [],
   "source": [
    "def solution(array, height):\n",
    "    return len(list(filter(lambda x : x > height, array)))"
   ]
  },
  {
   "attachments": {},
   "cell_type": "markdown",
   "metadata": {},
   "source": [
    "## 자릿수 더하기\n",
    "link : https://school.programmers.co.kr/learn/courses/30/lessons/120906\n",
    "\n",
    "### 문제 설명\n",
    "정수 n이 매개변수로 주어질 때 n의 각 자리 숫자의 합을 return하도록 solution 함수를 완성해주세요\n",
    "\n",
    "### 입출력 예 설명\n",
    "**입출력 예 #1**\n",
    "1 + 2 + 3 + 4 = 10을 return합니다.\n",
    "\n",
    "**입출력 예 #2**\n",
    "9 + 3 + 0 + 2 + 1 + 1 = 16을 return합니다."
   ]
  },
  {
   "cell_type": "code",
   "execution_count": 14,
   "metadata": {},
   "outputs": [],
   "source": [
    "def solution(n):\n",
    "    answer = 0\n",
    "    for i in str(n):\n",
    "        answer += int(i)\n",
    "    return answer"
   ]
  },
  {
   "cell_type": "code",
   "execution_count": 19,
   "metadata": {},
   "outputs": [],
   "source": [
    "def solution(n):\n",
    "    return sum(map(int, str(n)))"
   ]
  },
  {
   "attachments": {},
   "cell_type": "markdown",
   "metadata": {},
   "source": [
    "`map(function, iterable object)`\n",
    "- map에 쌓인 function 자리에는 함수가 들어갈 수 있다.\n",
    "- 이 말인 즉슨, 빌트인 함수도 들어갈 수 있다는 것 (int, str, etc)\n",
    "\n",
    "https://docs.python.org/3/library/functions.html"
   ]
  },
  {
   "attachments": {},
   "cell_type": "markdown",
   "metadata": {},
   "source": [
    "## 문자열 정렬하기 (1)\n",
    "link : https://school.programmers.co.kr/learn/courses/30/lessons/120850\n",
    "\n",
    "### 문제 설명\n",
    "문자열 my_string이 매개변수로 주어질 때, my_string 안에 있는 숫자만 골라 오름차순 정렬한 리스트를 return 하도록 solution 함수를 작성해보세요.\n",
    "\n",
    "### 입출력 예 설명\n",
    "**입출력 예 #1**\n",
    "\"hi12392\"에 있는 숫자 1, 2, 3, 9, 2를 오름차순 정렬한 [1, 2, 2, 3, 9]를 return 합니다.\n",
    "\n",
    "**입출력 예 #2**\n",
    "\"p2o4i8gj2\"에 있는 숫자 2, 4, 8, 2를 오름차순 정렬한 [2, 2, 4, 8]을 return 합니다.\n",
    "\n",
    "**입출력 예 #3**\n",
    "\"abcde0\"에 있는 숫자 0을 오름차순 정렬한 [0]을 return 합니다."
   ]
  },
  {
   "cell_type": "code",
   "execution_count": 4,
   "metadata": {},
   "outputs": [],
   "source": [
    "def solution(my_string):\n",
    "    return sorted([int(i) for i in my_string if i.isdigit()])"
   ]
  },
  {
   "attachments": {},
   "cell_type": "markdown",
   "metadata": {},
   "source": [
    "## 369 게임\n",
    "link : https://school.programmers.co.kr/learn/courses/30/lessons/120891\n",
    "\n",
    "### 문제 설명\n",
    "머쓱이는 친구들과 369게임을 하고 있습니다. 369게임은 1부터 숫자를 하나씩 대며 3, 6, 9가 들어가는 숫자는 숫자 대신 3, 6, 9의 개수만큼 박수를 치는 게임입니다. 머쓱이가 말해야하는 숫자 order가 매개변수로 주어질 때, 머쓱이가 쳐야할 박수 횟수를 return 하도록 solution 함수를 완성해보세요.\n",
    "\n",
    "### 입출력 예 설명\n",
    "**입출력 예 #1**\n",
    "3은 3이 1개 있으므로 1을 출력합니다.\n",
    "\n",
    "**입출력 예 #2**\n",
    "29423은 3이 1개, 9가 1개 있으므로 2를 출력합니다."
   ]
  },
  {
   "cell_type": "code",
   "execution_count": 95,
   "metadata": {},
   "outputs": [],
   "source": [
    "def solution(order):\n",
    "    count = 0\n",
    "    count += str(order).count('3')\n",
    "    count += str(order).count('6')\n",
    "    count += str(order).count('9')\n",
    "    return count"
   ]
  },
  {
   "attachments": {},
   "cell_type": "markdown",
   "metadata": {},
   "source": [
    "## 모음제거\n",
    "link : https://school.programmers.co.kr/learn/courses/30/lessons/120849\n",
    "\n",
    "### 문제 설명\n",
    "영어에선 a, e, i, o, u 다섯 가지 알파벳을 모음으로 분류합니다. 문자열 my_string이 매개변수로 주어질 때 모음을 제거한 문자열을 return하도록 solution 함수를 완성해주세요.\n",
    "\n",
    "### 입출력 예 설명\n",
    "**입출력 예 #1**\n",
    "\"bus\"에서 모음 u를 제거한 \"bs\"를 return합니다.\n",
    "\n",
    "**입출력 예 #1**\n",
    "\"nice to meet you\"에서 모음 i, o, e, u를 모두 제거한 \"nc t mt y\"를 return합니다."
   ]
  },
  {
   "cell_type": "code",
   "execution_count": 96,
   "metadata": {},
   "outputs": [],
   "source": [
    "# 'he333l66l9o'.count('3', '6', '9') # error, 이런 기능을 구현하고 싶습니다.\n",
    "list(map(lambda x: 'he333l66l9o'.count(x), '369'))\n",
    "sum(map(lambda x: 'he333l66l9o'.count(x), '369'))\n",
    "\n",
    "# 문자열 중에 모음 ['a', 'e', 'i', 'o', 'u']의 갯수를 구하기\n",
    "sum(map(lambda x: 'hello world'.count(x), 'aeiou'))\n",
    "\n",
    "''.join(filter(lambda x:x not in 'aeiou', 'hello world'))\n",
    "\n",
    "''.join([i for i in 'hello world' if i not in 'aeiou'])\n",
    "\n",
    "def solution(my_string):\n",
    "    return my_string.replace('a', '').replace('e', '').replace('i', '').replace('o', '').replace('u', '')"
   ]
  },
  {
   "attachments": {},
   "cell_type": "markdown",
   "metadata": {},
   "source": [
    "## 지난 주 과제"
   ]
  },
  {
   "cell_type": "code",
   "execution_count": 11,
   "metadata": {},
   "outputs": [],
   "source": [
    "# step 3 추가기능 구현\n",
    "class Node:\n",
    "    def __init__(self, data):\n",
    "        self.data = data\n",
    "        self.next = None\n",
    "\n",
    "class LinkedList:\n",
    "    def __init__(self):\n",
    "        init = Node('init')\n",
    "        self.head = init\n",
    "        self.tail = init\n",
    "        # self.현재노드 = None\n",
    "        self.데이터수 = 0\n",
    "\n",
    "    def __len__(self):\n",
    "        return self.데이터수\n",
    "\n",
    "    def __str__(self):\n",
    "        # return 'hello world' # <12, 99, 37, 2>\n",
    "        현재노드 = self.head \n",
    "        현재노드 = 현재노드.next # 처음 노드가 init이기 때문에\n",
    "\n",
    "        s = '' # <12, 99, 37, 2> 처럼 만들어줄겁니다.\n",
    "\n",
    "        for i in range(self.데이터수):\n",
    "            s += f'{현재노드.data}, '\n",
    "            현재노드 = 현재노드.next\n",
    "\n",
    "        return f'<{s[:-2]}>'\n",
    "    \n",
    "    def append(self, data):\n",
    "        새로운노드 = Node(data)\n",
    "        self.tail.next = 새로운노드\n",
    "        self.tail = 새로운노드\n",
    "        self.데이터수 += 1\n",
    "\n",
    "    def pop(self):\n",
    "        마지막값 = self.tail.data\n",
    "        현재노드 = self.head\n",
    "\n",
    "        for i in range(self.데이터수):\n",
    "            if 현재노드.next is self.tail:\n",
    "                self.tail = 현재노드\n",
    "                # 현재노드.next = None # 없어도 작동되는 코드입니다.\n",
    "                break\n",
    "            현재노드 = 현재노드.next\n",
    "        self.데이터수 -= 1\n",
    "\n",
    "        return 마지막값\n",
    "\n",
    "    def find(self, data):\n",
    "        '''\n",
    "        해당 값이 있으면 해당 값의 인덱스 출력\n",
    "        해당 값이 없으면 \"값을 찾을 수 없습니다\" 출력\n",
    "        '''\n",
    "        index = -1\n",
    "        현재노드 = self.head\n",
    "\n",
    "        for i in range(self.데이터수 + 1): # init 데이터가 있기 때문에 + 1\n",
    "            if 현재노드.data == data:\n",
    "                return index\n",
    "            index += 1\n",
    "            현재노드 = 현재노드.next\n",
    "           \n",
    "        if 현재노드 != data:\n",
    "            \n",
    "            return print(\"값을 찾을 수 없습니다.\")"
   ]
  },
  {
   "attachments": {},
   "cell_type": "markdown",
   "metadata": {},
   "source": [
    "## 강사님 코드"
   ]
  },
  {
   "cell_type": "code",
   "execution_count": 12,
   "metadata": {},
   "outputs": [],
   "source": [
    "# step 4 기능 개선(iter, insert)\n",
    "class Node:\n",
    "    def __init__(self, data):\n",
    "        self.data = data\n",
    "        self.next = None\n",
    "        \n",
    "class LinkedList:\n",
    "    def __init__(self):\n",
    "        init = Node('init')\n",
    "        self.head = init\n",
    "        self.tail = init\n",
    "        \n",
    "        self.현재노드 = None\n",
    "        self.데이터수 = 0\n",
    "        \n",
    "    def __len__(self):\n",
    "        return self.데이터수\n",
    "    \n",
    "    def __str__(self):\n",
    "        \n",
    "        현재노드 = self.head\n",
    "        현재노드 = 현재노드.next\n",
    "        s = ''\n",
    "        \n",
    "        for i in range(self.데이터수):\n",
    "            s += f'{현재노드.data}, '\n",
    "            현재노드 = 현재노드.next\n",
    "            \n",
    "        return f'[{s[:-2]}]'\n",
    "    \n",
    "    def __iter__(self):\n",
    "        현재노드 = self.head\n",
    "        현재노드 = 현재노드.next\n",
    "        while 현재노드:\n",
    "            yield 현재노드.data\n",
    "            현재노드 = 현재노드.next\n",
    "    \n",
    "    def append(self, data):\n",
    "        새로운노드 = Node(data)\n",
    "        self.tail.next = 새로운노드\n",
    "        self.tail = 새로운노드\n",
    "        self.데이터수 += 1\n",
    "        \n",
    "    def insert(self, input_index, input_data):\n",
    "        현재노드 = self.head\n",
    "        \n",
    "        for i in range(input_index):\n",
    "            현재노드 = 현재노드.next\n",
    "            \n",
    "        신규노드 = Node(input_data)\n",
    "        신규노드.next = 현재노드.next\n",
    "        현재노드.next = 신규노드\n",
    "        \n",
    "        self.데이터수 += 1\n",
    "        \n",
    "    def pop(self):\n",
    "        마지막값 = self.tail.data\n",
    "        현재노드 = self.head\n",
    "        \n",
    "        for i in range(self.데이터수):\n",
    "            if 현재노드.next is self.tail:\n",
    "                self.tail = 현재노드\n",
    "                break\n",
    "            현재노드 = 현재노드.next\n",
    "            \n",
    "        self.데이터수 -= 1\n",
    "        return 마지막값\n",
    "    \n",
    "    def find(self, data):\n",
    "        index = -1\n",
    "        현재노드 = self.head\n",
    "        \n",
    "        for i in range(self.데이터수+1):\n",
    "            if 현재노드.data == data:\n",
    "                return index\n",
    "            index += 1\n",
    "            현재노드 = 현재노드.next\n",
    "            \n",
    "        return -1"
   ]
  },
  {
   "cell_type": "code",
   "execution_count": 13,
   "metadata": {},
   "outputs": [],
   "source": [
    "def __iter__(self):\n",
    "    현재노드 = self.head\n",
    "    현재노드 = 현재노드.next\n",
    "    while 현재노드:\n",
    "        yield 현재노드.data\n",
    "        현재노드 = 현재노드.next"
   ]
  },
  {
   "attachments": {},
   "cell_type": "markdown",
   "metadata": {},
   "source": [
    "아래가 `__iter__(self)` 에 대한 설명"
   ]
  },
  {
   "attachments": {},
   "cell_type": "markdown",
   "metadata": {},
   "source": [
    "## yield\n",
    "\n",
    "```\n",
    "while 현재노드:\n",
    "    yield 현재노드.data\n",
    "        현재노드 = 현재노드.next\n",
    "```\n",
    "\n",
    "yield는 return을 하고 끝나는 것이 아니라, 값을 가지고 대기하는 역할을 함\n",
    "\n",
    "**iterable** : 순회가능한, 반복가능한"
   ]
  },
  {
   "cell_type": "code",
   "execution_count": 9,
   "metadata": {},
   "outputs": [
    {
     "data": {
      "text/plain": [
       "[(2, 1), (4, 2), (6, 3), (8, 4), (10, 5), (12, 6)]"
      ]
     },
     "execution_count": 9,
     "metadata": {},
     "output_type": "execute_result"
    }
   ],
   "source": [
    "def 반복가능한객체생성(): # generator : iterable한 객체를 생성\n",
    "    x = 0\n",
    "    while True:\n",
    "        x += 2\n",
    "        yield x\n",
    "\n",
    "list(zip(반복가능한객체생성(), [1, 2, 3, 4, 5, 6]))"
   ]
  },
  {
   "cell_type": "code",
   "execution_count": 10,
   "metadata": {},
   "outputs": [
    {
     "name": "stdout",
     "output_type": "stream",
     "text": [
      "2\n",
      "4\n",
      "6\n",
      "8\n"
     ]
    }
   ],
   "source": [
    "for i in 반복가능한객체생성():\n",
    "    if i == 10:\n",
    "        break\n",
    "    print(i)"
   ]
  },
  {
   "cell_type": "code",
   "execution_count": 14,
   "metadata": {},
   "outputs": [],
   "source": [
    "l = LinkedList()\n",
    "l.append(10)\n",
    "l.append(20)\n",
    "l.append(30)\n",
    "l.append(40)\n",
    "l.append(50)"
   ]
  },
  {
   "cell_type": "code",
   "execution_count": 16,
   "metadata": {},
   "outputs": [
    {
     "name": "stdout",
     "output_type": "stream",
     "text": [
      "10\n",
      "20\n",
      "30\n",
      "40\n",
      "50\n"
     ]
    }
   ],
   "source": [
    "# LinkedList를 적용하면 객체가 내부의 __iter__ 메서드의 적용을 받아 순회가능한 객체로 변환되는 것을 볼 수 있음\n",
    "for i in l:\n",
    "    print(i)"
   ]
  },
  {
   "cell_type": "code",
   "execution_count": 18,
   "metadata": {},
   "outputs": [
    {
     "name": "stdout",
     "output_type": "stream",
     "text": [
      "[10, 20, 10000, 30, 40, 50]\n"
     ]
    }
   ],
   "source": [
    "l.insert(2, 10000)\n",
    "print(l)"
   ]
  },
  {
   "attachments": {},
   "cell_type": "markdown",
   "metadata": {},
   "source": [
    "## step4.\n",
    "https://visualgo.net/en/list"
   ]
  },
  {
   "attachments": {},
   "cell_type": "markdown",
   "metadata": {},
   "source": [
    "## step 5. 더블 링크드 리스트\n",
    "- 앞뒤로 자유롭게 왔다갔다 할 수 있는 형태\n",
    "- 크게 부담갖지 않고 접근하기"
   ]
  },
  {
   "cell_type": "code",
   "execution_count": 19,
   "metadata": {},
   "outputs": [],
   "source": [
    "# step 5 더블 링크드 리스트의 기본 형태\n",
    "배열 = {\n",
    "    'head': 'None'\n",
    "}\n",
    "\n",
    "list1 = {'value':12, 'next':None, 'pre':None}\n",
    "list2 = {'value':99, 'next':None, 'pre':None}\n",
    "list3 = {'value':37, 'next':None, 'pre':None}\n",
    "list4 = {'value':2, 'next':None, 'pre':None}\n",
    "list1['next'] = list2\n",
    "list2['next'] = list3\n",
    "list3['next'] = list4\n",
    "list1['pre']= 배열['head']\n",
    "list2['pre']= list1\n",
    "list3['pre']= list2\n",
    "list4['pre']= list3\n",
    "배열['head'] = list1"
   ]
  },
  {
   "cell_type": "code",
   "execution_count": 20,
   "metadata": {},
   "outputs": [
    {
     "data": {
      "text/plain": [
       "{'value': 12,\n",
       " 'next': {'value': 99,\n",
       "  'next': {'value': 37,\n",
       "   'next': {'value': 2, 'next': None, 'pre': {...}},\n",
       "   'pre': {...}},\n",
       "  'pre': {...}},\n",
       " 'pre': 'None'}"
      ]
     },
     "execution_count": 20,
     "metadata": {},
     "output_type": "execute_result"
    }
   ],
   "source": [
    "배열['head']"
   ]
  },
  {
   "cell_type": "code",
   "execution_count": 21,
   "metadata": {},
   "outputs": [
    {
     "data": {
      "text/plain": [
       "{'value': 99,\n",
       " 'next': {'value': 37,\n",
       "  'next': {'value': 2, 'next': None, 'pre': {...}},\n",
       "  'pre': {...}},\n",
       " 'pre': {'value': 12, 'next': {...}, 'pre': 'None'}}"
      ]
     },
     "execution_count": 21,
     "metadata": {},
     "output_type": "execute_result"
    }
   ],
   "source": [
    "배열['head']['next']"
   ]
  },
  {
   "cell_type": "code",
   "execution_count": 22,
   "metadata": {},
   "outputs": [
    {
     "data": {
      "text/plain": [
       "99"
      ]
     },
     "execution_count": 22,
     "metadata": {},
     "output_type": "execute_result"
    }
   ],
   "source": [
    "# head <-> 12 <-> 99 <-> 37 <-> 2\n",
    "배열['head']['next']['value']"
   ]
  },
  {
   "cell_type": "code",
   "execution_count": 23,
   "metadata": {},
   "outputs": [
    {
     "data": {
      "text/plain": [
       "37"
      ]
     },
     "execution_count": 23,
     "metadata": {},
     "output_type": "execute_result"
    }
   ],
   "source": [
    "# head <-> 12 <-> 99 <-> 37 <-> 2\n",
    "배열['head']['next']['next']['value']"
   ]
  },
  {
   "cell_type": "code",
   "execution_count": 24,
   "metadata": {},
   "outputs": [
    {
     "data": {
      "text/plain": [
       "99"
      ]
     },
     "execution_count": 24,
     "metadata": {},
     "output_type": "execute_result"
    }
   ],
   "source": [
    "# head <-> 12 <-> 99 <-> 37 <-> 2\n",
    "배열['head']['next']['next']['pre']['value']"
   ]
  },
  {
   "cell_type": "code",
   "execution_count": null,
   "metadata": {},
   "outputs": [],
   "source": [
    "# step 5 더블 링크드 리스트의 기본 형태(동작X)\n",
    "class Node:\n",
    "    def __init__(self, data):\n",
    "        self.data = data\n",
    "        self.pre = None\n",
    "        self.next = None\n",
    "\n",
    "class DoubleLinkedList{\n",
    "    # ... 중략 ...\n",
    "    def append(self, data):\n",
    "        새로운노드 = Node(data)\n",
    "        self.tail.next = 새로운노드\n",
    "        새로운노드.pre = self.tail\n",
    "        self.tail = 새로운노드\n",
    "    # ... 중략 ...\n",
    "}\n",
    "\n",
    "l = DoubleLinkedList()\n",
    "l.append(1)\n",
    "\n",
    "# 싱글 링크드 리스트와의 차이점은 pre값도 설정해주어야 한다는 것"
   ]
  },
  {
   "attachments": {},
   "cell_type": "markdown",
   "metadata": {},
   "source": [
    "## 1.4.3 트리와 그래프"
   ]
  },
  {
   "attachments": {},
   "cell_type": "markdown",
   "metadata": {},
   "source": [
    "### 1.4.3.1 트리 구현\n",
    "- 트리의 기본형태\n",
    "    - value\n",
    "    - child - left\n",
    "    - child - right"
   ]
  },
  {
   "attachments": {},
   "cell_type": "markdown",
   "metadata": {},
   "source": [
    "### 트리\n",
    "link : https://blog.penjee.com/5-gifs-to-understand-binary-search-tree/\n",
    "- 나무를 거꾸로 뒤집어 놓은 모양\n",
    "- 뿌리(Root Node), 가지(Edge), 잎(Leaf Node)으로 구성\n",
    "- '탐색'을 위한 자료구조\n",
    "- 깊이(레벨)\n",
    "- 차수 : 노드의 자식 노드 개수\n",
    "- 노드끼리 부모 - 자식 관계 성립됨\n",
    "- 같은 부모노드에서 갈라지지 않았으면, 같은 레벨에 있더라도 형제 노드가 아님\n",
    "- 이진트리 : 자식 노드가 최대 두 개(1개일 수도 있음)인 노드들로 구성된 트리 (포화 이진 트리, 완전 이진 트리)\n",
    "- 완전 이진 트리는 왼쪽에서 오른쪽으로 노드가 생성되어야함 (한방향으로만)\n",
    "- 이진탐색트리구조가 정렬된 배열보다 탐색이 빠르다. (데이터가 커지면 커질수록)\n",
    "- 트리 가지의 방향의 기준은 고정된 것이 아니라 목적에 따라 설정하는 것 (예 : 루트보다 작으면 왼쪽, 크면 오른쪽)\n",
    "- 가지를 타고 내려가면서 자리하고 있는 노드와 비교하고, `비어있는` 자리에 위치함 (탐색, 삭제 등)"
   ]
  },
  {
   "attachments": {},
   "cell_type": "markdown",
   "metadata": {},
   "source": [
    "### 트리 vs 그래프\n",
    "- 트리는 순회 불가\n",
    "- 그래프는 순회 가능"
   ]
  },
  {
   "attachments": {},
   "cell_type": "markdown",
   "metadata": {},
   "source": [
    "스택과 큐를 리스트 형태로 구현할 때의 화살표 방향의 혼동 주의"
   ]
  },
  {
   "attachments": {},
   "cell_type": "markdown",
   "metadata": {},
   "source": [
    "### 깊이 우선 탐색 (DFS) - Stack\n",
    "깊이 우선 탐색의 방문경로 설정\n",
    "- 루트 노드와 연결된 1, 2번 노드가 있으며 이때, 1번 노드를 먼저 방문하고 싶다면\n",
    "- Stack에 2번을 먼저 넣고, 먼저 방문 하기 위한 1번 노드를 그 이후에 넣는다.\n",
    "- 이런식으로 방문하고자 하는 순서와 Stack에 넣는 순서는 반대로 한다.\n",
    "- 수직 탐색을 먼저 수행한 후, 수평 탐색을 수행한다.\n",
    "- 1번 경로 깊이 모두 탐색 후, 2번 경로 깊이 탐색"
   ]
  },
  {
   "attachments": {},
   "cell_type": "markdown",
   "metadata": {},
   "source": [
    "### 너비 우선 탐색 (BFS) - Queue\n",
    "너비 우선 탐색의 방문경로 설정"
   ]
  },
  {
   "cell_type": "code",
   "execution_count": 47,
   "metadata": {},
   "outputs": [
    {
     "data": {
      "text/plain": [
       "{'value': 5, 'left': {}, 'right': {}}"
      ]
     },
     "execution_count": 47,
     "metadata": {},
     "output_type": "execute_result"
    }
   ],
   "source": [
    "# 기본 구조\n",
    "{\n",
    "    'value': 5,\n",
    "    'left': {},\n",
    "    'right': {}\n",
    "}"
   ]
  },
  {
   "cell_type": "code",
   "execution_count": 29,
   "metadata": {},
   "outputs": [],
   "source": [
    "tree = {\n",
    "    'root': {\n",
    "        'value': 5,\n",
    "        'left': {\n",
    "            'value': 3,\n",
    "            'left': {\n",
    "                'value': 1,\n",
    "                'left': None,\n",
    "                'right': None\n",
    "            },\n",
    "            'right': {\n",
    "                'value': 4,\n",
    "                'left': None,\n",
    "                'right': None\n",
    "            }\n",
    "        },\n",
    "        'right': {\n",
    "            'value': 8,\n",
    "            'left': {\n",
    "                'value': 6,\n",
    "                'left': None,\n",
    "                'right': None\n",
    "            },\n",
    "            'right': {\n",
    "                'value': 9,\n",
    "                'left': None,\n",
    "                'right': None\n",
    "            }\n",
    "        }\n",
    "    }\n",
    "}"
   ]
  },
  {
   "cell_type": "code",
   "execution_count": 33,
   "metadata": {},
   "outputs": [
    {
     "data": {
      "text/plain": [
       "4"
      ]
     },
     "execution_count": 33,
     "metadata": {},
     "output_type": "execute_result"
    }
   ],
   "source": [
    "tree['root']['value']\n",
    "tree['root']['left']['value']\n",
    "tree['root']['left']['right']['value']"
   ]
  },
  {
   "attachments": {},
   "cell_type": "markdown",
   "metadata": {},
   "source": [
    "### 연습문제\n",
    "\n",
    "![](2023-04-07-11-37-35.png)"
   ]
  },
  {
   "cell_type": "code",
   "execution_count": 48,
   "metadata": {},
   "outputs": [],
   "source": [
    "# 기존의 자료형인 딕셔너리로 구현한 tree\n",
    "tree = {\n",
    "    'root': {\n",
    "        'value': 55,\n",
    "        'left': {\n",
    "            'value': 30,\n",
    "            'left': {\n",
    "                'value': 25,\n",
    "                'left': {\n",
    "                    'value': 21,\n",
    "                    'left': None,\n",
    "                    'right': None,\n",
    "                },\n",
    "                'right': None,\n",
    "            },\n",
    "            'right': {\n",
    "                'value': 37,\n",
    "                'left': None,\n",
    "                'right': None,\n",
    "            }\n",
    "        },\n",
    "        'right': {\n",
    "            'value': 70,\n",
    "            'left': None,\n",
    "            'right': {\n",
    "                'value': 77,\n",
    "                'left': None,\n",
    "                'right': {\n",
    "                    'value': 80,\n",
    "                    'left': None,\n",
    "                    'right': None,\n",
    "                },\n",
    "            },\n",
    "        },\n",
    "    },\n",
    "}"
   ]
  },
  {
   "cell_type": "code",
   "execution_count": 44,
   "metadata": {},
   "outputs": [
    {
     "data": {
      "text/plain": [
       "{'root': {'value': 55,\n",
       "  'left': {'value': 30,\n",
       "   'left': {'value': 25,\n",
       "    'left': {'value': 21, 'left': None, 'right': None},\n",
       "    'right': None},\n",
       "   'right': {'value': 37, 'left': None, 'right': None}},\n",
       "  'right': {'value': 70,\n",
       "   'left': None,\n",
       "   'right': {'value': 77,\n",
       "    'left': None,\n",
       "    'right': {'value': 80, 'left': None, 'right': None}}}}}"
      ]
     },
     "execution_count": 44,
     "metadata": {},
     "output_type": "execute_result"
    }
   ],
   "source": [
    "tree"
   ]
  },
  {
   "cell_type": "code",
   "execution_count": 46,
   "metadata": {},
   "outputs": [
    {
     "data": {
      "text/plain": [
       "77"
      ]
     },
     "execution_count": 46,
     "metadata": {},
     "output_type": "execute_result"
    }
   ],
   "source": [
    "# 77 호출\n",
    "tree['root']['right']['right']['value']"
   ]
  },
  {
   "attachments": {},
   "cell_type": "markdown",
   "metadata": {},
   "source": [
    "### 1.4.3.1 트리의 순회\n",
    "object나 array(기존 자료형)로 tree나 linked list를 구현할 수 있는데 왜 class로 구현하는가\n",
    "- 더 간편한 모델을 만들기 위해\n",
    "- 확장성을 위해\n",
    "- OOP(객체지향프로그래밍) 철학에 맞기 때문에\n",
    "    - 쉬운 관리\n",
    "    - 매직 메서드의 활용 등"
   ]
  },
  {
   "attachments": {},
   "cell_type": "markdown",
   "metadata": {},
   "source": [
    "![](2023-04-07-11-45-44.png)"
   ]
  },
  {
   "cell_type": "code",
   "execution_count": 49,
   "metadata": {},
   "outputs": [
    {
     "data": {
      "text/plain": [
       "37"
      ]
     },
     "execution_count": 49,
     "metadata": {},
     "output_type": "execute_result"
    }
   ],
   "source": [
    "# 아래와 같은 형태로 Node를 만들어 진행하게 됩니다.\n",
    "root = {\n",
    "    'value': 55,\n",
    "    'left': None,\n",
    "    'right': None\n",
    "}\n",
    "\n",
    "node1 = {'value':99, 'left':None, 'right':None}\n",
    "node2 = {'value':53, 'left':None, 'right':None}\n",
    "node3 = {'value':37, 'left':None, 'right':None}\n",
    "node4 = {'value':54,  'left':None, 'right':None}\n",
    "root['right'] = node1\n",
    "root['left'] = node2\n",
    "node2['left'] = node3\n",
    "node2['right'] = node4\n",
    "\n",
    "root['value']\n",
    "root['right']['value']\n",
    "root['left']['left']['value']"
   ]
  },
  {
   "cell_type": "code",
   "execution_count": 51,
   "metadata": {},
   "outputs": [
    {
     "data": {
      "text/plain": [
       "37"
      ]
     },
     "execution_count": 51,
     "metadata": {},
     "output_type": "execute_result"
    }
   ],
   "source": [
    "# step 1\n",
    "# 더블 링크드 리스트의 형태\n",
    "\n",
    "class Node:\n",
    "    def __init__(self, data):\n",
    "        self.data = data\n",
    "        # self.child = [] 2진 트리가 아닌 경우 child를 사용할 수 있습니다.\n",
    "        self.left = None\n",
    "        self.right = None\n",
    "\n",
    "node1 = Node(55)\n",
    "node2 = Node(99)\n",
    "node3 = Node(53)\n",
    "node4 = Node(37)\n",
    "node5 = Node(54)\n",
    "\n",
    "node1.left = node3\n",
    "node1.right = node2\n",
    "node3.left = node4\n",
    "node3.right = node5\n",
    "\n",
    "node1.data\n",
    "# 55\n",
    "node1.right.data\n",
    "# 99\n",
    "node1.left.data\n",
    "# 53\n",
    "node1.left.left.data\n",
    "# 37"
   ]
  },
  {
   "cell_type": "code",
   "execution_count": 63,
   "metadata": {},
   "outputs": [],
   "source": [
    "# step1.\n",
    "class Node:\n",
    "    def __init__(self, data):\n",
    "        self.data = data\n",
    "        self.left = None\n",
    "        self.right = None\n",
    "\n",
    "class Tree:\n",
    "    def __init__(self, data):\n",
    "        init = Node(data)\n",
    "        self.root = init\n",
    "        self.데이터수 = 0\n",
    "    \n",
    "    def length(self): #__len__ -> 이렇게 구현해야만 len()이렇게 값을 구할 수 있습니다.\n",
    "        return self.데이터수\n",
    "\n",
    "    def __len__(self):\n",
    "        return self.데이터수\n",
    "\n",
    "    def insert(self, data):\n",
    "        새로운노드 = Node(data)\n",
    "        순회용현재노드 = self.root\n",
    "\n",
    "        while 순회용현재노드:\n",
    "            if data == 순회용현재노드.data:\n",
    "                # 데이터가 같으면 추가하지 않습니다.\n",
    "                return\n",
    "            if data < 순회용현재노드.data: #왼쪽\n",
    "                # 들어온 데이터가 기존의 데이터보다 작은 경우 왼쪽에 붙어야 합니다.\n",
    "                # 들어온 자리가 비어있다면 그 자리를 차지하고\n",
    "                # 비어있지 않으면 계속해서 다음노드를 탐색해야 합니다.\n",
    "                if not 순회용현재노드.left: #비어있다면\n",
    "                    순회용현재노드.left = 새로운노드\n",
    "                    self.데이터수 += 1\n",
    "                    return\n",
    "                순회용현재노드 = 순회용현재노드.left\n",
    "            if data > 순회용현재노드.data: #오른쪽\n",
    "                # 들어온 데이터가 기존의 데이터보다 큰 경우 오른쪽에 붙어야 합니다.\n",
    "                # 들어온 자리가 비어있다면 그 자리를 차지하고\n",
    "                # 비어있지 않으면 계속해서 다음노드를 탐색해야 합니다.\n",
    "                if not 순회용현재노드.right: #비어있다면\n",
    "                    순회용현재노드.right = 새로운노드\n",
    "                    self.데이터수 += 1\n",
    "                    return\n",
    "                순회용현재노드 = 순회용현재노드.right"
   ]
  },
  {
   "cell_type": "code",
   "execution_count": 64,
   "metadata": {},
   "outputs": [],
   "source": [
    "t = Tree(5)\n",
    "t.insert(3)\n",
    "t.insert(8)\n",
    "t.insert(1)\n",
    "t.insert(4)\n",
    "t.insert(6)\n",
    "t.insert(9)"
   ]
  },
  {
   "cell_type": "code",
   "execution_count": 65,
   "metadata": {},
   "outputs": [
    {
     "data": {
      "text/plain": [
       "5"
      ]
     },
     "execution_count": 65,
     "metadata": {},
     "output_type": "execute_result"
    }
   ],
   "source": [
    "t.root.data"
   ]
  },
  {
   "cell_type": "code",
   "execution_count": 66,
   "metadata": {},
   "outputs": [
    {
     "data": {
      "text/plain": [
       "4"
      ]
     },
     "execution_count": 66,
     "metadata": {},
     "output_type": "execute_result"
    }
   ],
   "source": [
    "# 4를 꺼내기\n",
    "t.root.left.right.data"
   ]
  },
  {
   "cell_type": "code",
   "execution_count": 75,
   "metadata": {},
   "outputs": [
    {
     "data": {
      "text/plain": [
       "[5, 3, 1, 4, 8, 6, 9]"
      ]
     },
     "execution_count": 75,
     "metadata": {},
     "output_type": "execute_result"
    }
   ],
   "source": [
    "# step 2. 깊이우선탐색과 너비우선탐색 구현하기\n",
    "\n",
    "class Node:\n",
    "    def __init__(self, data):\n",
    "        self.data = data\n",
    "        self.left = None\n",
    "        self.right = None\n",
    "\n",
    "class Tree:\n",
    "    def __init__(self, data):\n",
    "        init = Node(data)\n",
    "        self.root = init\n",
    "        self.데이터수 = 0\n",
    "\n",
    "    def __len__(self):\n",
    "        return self.데이터수\n",
    "\n",
    "    def insert(self, data):\n",
    "        새로운노드 = Node(data)\n",
    "        순회용현재노드 = self.root\n",
    "\n",
    "        while 순회용현재노드:\n",
    "            if data == 순회용현재노드.data:\n",
    "                return\n",
    "            if data < 순회용현재노드.data: #왼쪽\n",
    "                if 순회용현재노드.left == None:\n",
    "                    순회용현재노드.left = 새로운노드\n",
    "                    self.데이터수 += 1\n",
    "                    return\n",
    "                순회용현재노드 = 순회용현재노드.left\n",
    "            if data > 순회용현재노드.data: #오른쪽\n",
    "                if 순회용현재노드.right == None:\n",
    "                    순회용현재노드.right = 새로운노드\n",
    "                    self.데이터수 += 1\n",
    "                    return\n",
    "                순회용현재노드 = 순회용현재노드.right\n",
    "\n",
    "    # 깊스너큐(깊이우선탐색(DFS)은 스택, 너비우선탐색(BFS)은 큐)\n",
    "    def DFS(self):\n",
    "        # 깊이우선탐색, DFS(Depth First Search)\n",
    "        # Stack 이용!\n",
    "        방문경로 = [] # 방문경로\n",
    "        stack = [self.root]\n",
    "        while len(stack) != 0:\n",
    "            current = stack.pop()\n",
    "            if current.right:\n",
    "                stack.append(current.right)\n",
    "            if current.left:\n",
    "                stack.append(current.left)\n",
    "            방문경로.append(current.data)\n",
    "        return 방문경로\n",
    "\n",
    "t = Tree(5)\n",
    "t.insert(3)\n",
    "t.insert(8)\n",
    "t.insert(1)\n",
    "t.insert(4)\n",
    "t.insert(6)\n",
    "t.insert(9)\n",
    "\n",
    "t.DFS()"
   ]
  },
  {
   "cell_type": "code",
   "execution_count": 76,
   "metadata": {},
   "outputs": [
    {
     "data": {
      "text/plain": [
       "[5, 3, 8, 1, 4, 6, 9]"
      ]
     },
     "execution_count": 76,
     "metadata": {},
     "output_type": "execute_result"
    }
   ],
   "source": [
    "# step 2\n",
    "# 깊이우선탐색과 너비우선탐색 \n",
    "class Node:\n",
    "    def __init__(self, data):\n",
    "        self.data = data\n",
    "        self.left = None\n",
    "        self.right = None\n",
    "\n",
    "class Tree:\n",
    "    def __init__(self, data):\n",
    "        init = Node(data)\n",
    "        self.root = init\n",
    "        self.데이터수 = 0\n",
    "\n",
    "    def __len__(self):\n",
    "        return self.데이터수\n",
    "\n",
    "    def insert(self, data):\n",
    "        새로운노드 = Node(data)\n",
    "        순회용현재노드 = self.root\n",
    "\n",
    "        while 순회용현재노드:\n",
    "            if data == 순회용현재노드.data:\n",
    "                return\n",
    "            if data < 순회용현재노드.data: #왼쪽\n",
    "                if 순회용현재노드.left == None:\n",
    "                    순회용현재노드.left = 새로운노드\n",
    "                    self.데이터수 += 1\n",
    "                    return\n",
    "                순회용현재노드 = 순회용현재노드.left\n",
    "            if data > 순회용현재노드.data: #오른쪽\n",
    "                if 순회용현재노드.right == None:\n",
    "                    순회용현재노드.right = 새로운노드\n",
    "                    self.데이터수 += 1\n",
    "                    return\n",
    "                순회용현재노드 = 순회용현재노드.right\n",
    "\n",
    "    # 깊스너큐(깊이우선탐색(DFS)은 스택, 너비우선탐색(BFS)은 큐)\n",
    "    def BFS(self):\n",
    "        # 너비우선탐색, BFS(Breadth First Search)\n",
    "        # Queue 이용!\n",
    "        방문경로 = [] # 방문경로\n",
    "        queue = [self.root]\n",
    "        while len(queue) != 0:\n",
    "            current = queue.pop(0) # DFS와 다른 부분\n",
    "            if current.left:\n",
    "                queue.append(current.left) # left와 right의 순서도 다름\n",
    "            if current.right:\n",
    "                queue.append(current.right)\n",
    "            방문경로.append(current.data)\n",
    "        return 방문경로\n",
    "\n",
    "t = Tree(5)\n",
    "t.insert(3)\n",
    "t.insert(8)\n",
    "t.insert(1)\n",
    "t.insert(4)\n",
    "t.insert(6)\n",
    "t.insert(9)\n",
    "\n",
    "t.BFS()"
   ]
  },
  {
   "attachments": {},
   "cell_type": "markdown",
   "metadata": {},
   "source": [
    "## 1.4.4 정렬 알고리즘"
   ]
  },
  {
   "attachments": {},
   "cell_type": "markdown",
   "metadata": {},
   "source": [
    "### 선택정렬\n",
    "- 기존 배열을 순회하면서 최솟값을 찾는다.\n",
    "- 기존 배열에서 최솟값을 pop하고 새로운 배열에 append한다.\n",
    "- 순회는 기존 배열 길이가 0이 될 때 까지"
   ]
  },
  {
   "cell_type": "code",
   "execution_count": null,
   "metadata": {},
   "outputs": [],
   "source": [
    "# for문의 무한루프\n",
    "# x = [1, 2, 3]\n",
    "# for i in x:\n",
    "#     print(i)\n",
    "#     x.append(10)"
   ]
  },
  {
   "cell_type": "code",
   "execution_count": 77,
   "metadata": {},
   "outputs": [
    {
     "data": {
      "text/plain": [
       "[12, 22, 32, 33, 64, 72, 199, 222, 244]"
      ]
     },
     "execution_count": 77,
     "metadata": {},
     "output_type": "execute_result"
    }
   ],
   "source": [
    "# 선택정렬\n",
    "def 최솟값_인덱스_리턴_함수(리스트):\n",
    "    최솟값_인덱스 = 0\n",
    "    for i in range(1, len(리스트)):\n",
    "        if 리스트[i] < 리스트[최솟값_인덱스]:\n",
    "            최솟값_인덱스 = i\n",
    "    return 최솟값_인덱스\n",
    "\n",
    "def 선택정렬(리스트):\n",
    "    정렬된값 = []\n",
    "    while 리스트: # 리스트의 값이 있는 동안 순회한다는 의미\n",
    "        최솟값_인덱스 = 최솟값_인덱스_리턴_함수(리스트)\n",
    "        정렬된값.append(리스트.pop(최솟값_인덱스))\n",
    "    return 정렬된값\n",
    "\n",
    "주어진리스트 = [199, 22, 33, 12, 32, 64, 72, 222, 244]\n",
    "선택정렬(주어진리스트)"
   ]
  },
  {
   "attachments": {},
   "cell_type": "markdown",
   "metadata": {},
   "source": [
    "### 삽입정렬\n",
    "- 끼어들기\n",
    "- 기존의 배열에서 pop(0)로 빠져나온 요소가\n",
    "- 새로운 배열에 편입될 때는 앞에서부터 순회를 돌다가 큰 값을 만나면 그 자리에 끼어든다(insert)."
   ]
  },
  {
   "cell_type": "code",
   "execution_count": 78,
   "metadata": {},
   "outputs": [
    {
     "data": {
      "text/plain": [
       "[12, 22, 32, 33, 64, 72, 199, 222, 244]"
      ]
     },
     "execution_count": 78,
     "metadata": {},
     "output_type": "execute_result"
    }
   ],
   "source": [
    "def 삽입값이_들어갈_인덱스(정렬된값, 삽입값):\n",
    "    for i in range(len(정렬된값)):\n",
    "        if 삽입값 < 정렬된값[i]:\n",
    "            return i\n",
    "    return len(정렬된값) # 다 돌고도 못찾으면 마지막 자리에 들어가는 것\n",
    "\n",
    "def 삽입정렬(리스트):\n",
    "    정렬된값 = []\n",
    "    while 리스트:\n",
    "        삽입값 = 리스트.pop(0)\n",
    "        삽입값_인덱스 = 삽입값이_들어갈_인덱스(정렬된값, 삽입값)\n",
    "        정렬된값.insert(삽입값_인덱스, 삽입값)\n",
    "    return 정렬된값\n",
    "\n",
    "주어진리스트 = [199, 22, 33, 12, 32, 64, 72, 222, 244]\n",
    "삽입정렬(주어진리스트)"
   ]
  },
  {
   "attachments": {},
   "cell_type": "markdown",
   "metadata": {},
   "source": [
    "### 병합정렬\n",
    "- 분할과 정복\n",
    "- 나누고 합치는 과정을 거침\n",
    "- 나눠진 배열들의 0번째 인덱스의 요소끼리 비교 후, 더 작은 것이 먼저 내려오게됨\n",
    "- 앞에서 비교되어 정렬되어 값들이 내려간 후, 배열의 앞이 비어서 한 값만 남으면 남은 값은 그대로 내려옴\n",
    "- 이 과정을 반복하면서 최종 정렬이 이루어짐"
   ]
  },
  {
   "cell_type": "code",
   "execution_count": null,
   "metadata": {},
   "outputs": [],
   "source": [
    "입력값 = [5, 10, 66, 77, 54, 32, 11, 15]\n",
    "정렬된배열 = []\n",
    "\n",
    "# 분할\n",
    "[5, 10, 66, 77, 54, 32, 11, 15]\n",
    "[5, 10, 66, 77], [54, 32, 11, 15]\n",
    "[5, 10], [66, 77], [54, 32], [11, 15]\n",
    "[5], [10], [66], [77], [54], [32], [11], [15]\n",
    "\n",
    "# 정복(0번째끼리 비교)\n",
    "[5, 10], [66, 77], [54, 32], [11, 15]\n",
    "[5, 10], [66, 77], [32, 54], [11, 15]\n",
    "[5, 10, 66, 77], [11, 15, 32, 54]\n",
    "[5, 10, 11, 15, 32, 54, 66, 77]"
   ]
  },
  {
   "cell_type": "code",
   "execution_count": 93,
   "metadata": {},
   "outputs": [
    {
     "data": {
      "text/plain": [
       "[12, 22, 32, 33, 64, 72, 199, 222, 233]"
      ]
     },
     "execution_count": 93,
     "metadata": {},
     "output_type": "execute_result"
    }
   ],
   "source": [
    "def 병합정렬(입력리스트):\n",
    "    # 분할\n",
    "    입력리스트길이 = len(입력리스트)\n",
    "    if 입력리스트길이 <=1:\n",
    "        return 입력리스트\n",
    "    \n",
    "    중간값 = 입력리스트길이 // 2\n",
    "    그룹_하나 = 병합정렬(입력리스트[:중간값])\n",
    "    그룹_둘 = 병합정렬(입력리스트[중간값:])\n",
    "    결과값 = []\n",
    "\n",
    "    # 정복\n",
    "    while 그룹_하나 and 그룹_둘:\n",
    "        if 그룹_하나[0] < 그룹_둘[0]:\n",
    "            결과값.append(그룹_하나.pop(0))\n",
    "        else:\n",
    "            결과값.append(그룹_둘.pop(0))\n",
    "    if 그룹_하나:\n",
    "        결과값.extend(그룹_하나)\n",
    "    if 그룹_둘:\n",
    "        결과값.extend(그룹_둘)\n",
    "    return 결과값\n",
    "\n",
    "주어진리스트 = [199, 22, 33, 12, 32, 64, 72, 222, 233]\n",
    "병합정렬(주어진리스트)"
   ]
  },
  {
   "cell_type": "code",
   "execution_count": 90,
   "metadata": {},
   "outputs": [
    {
     "data": {
      "text/plain": [
       "[1, 2, 3, 4, 5, [7, 8]]"
      ]
     },
     "execution_count": 90,
     "metadata": {},
     "output_type": "execute_result"
    }
   ],
   "source": [
    "결과값 = [1, 2, 3, 4, 5]\n",
    "결과값.append([7, 8])\n",
    "결과값"
   ]
  },
  {
   "cell_type": "code",
   "execution_count": 92,
   "metadata": {},
   "outputs": [
    {
     "data": {
      "text/plain": [
       "[1, 2, 3, 4, 5, 7, 8]"
      ]
     },
     "execution_count": 92,
     "metadata": {},
     "output_type": "execute_result"
    }
   ],
   "source": [
    "결과값 = [1, 2, 3, 4, 5]\n",
    "결과값.extend([7, 8])\n",
    "결과값"
   ]
  },
  {
   "attachments": {},
   "cell_type": "markdown",
   "metadata": {},
   "source": [
    "### 퀵 정렬"
   ]
  },
  {
   "cell_type": "code",
   "execution_count": null,
   "metadata": {},
   "outputs": [],
   "source": [
    "[66, 77, 54, 32, 10, 5, 11, 15] # 피봇값 : 66\n",
    "[54, 32, 10, 5, 11, 15] + [66] + [77]\n",
    "\n",
    "[54, 32, 10, 5, 11, 15] # 피봇값 : 54\n",
    "[32, 10, 5, 11, 15] + [54]\n",
    "\n",
    "[32, 10, 5, 11, 15] # 피봇값 : 32\n",
    "[10, 5, 11, 15] + [32]\n",
    "\n",
    "[10, 5, 11, 15] # 피봇값 : 10\n",
    "[5] + [10] + [11, 15]\n",
    "\n",
    "[11, 15] # 피봇값 : 11\n",
    "[11] + [15]"
   ]
  },
  {
   "cell_type": "code",
   "execution_count": null,
   "metadata": {},
   "outputs": [],
   "source": [
    "[11, 15] # 피봇값 : 11\n",
    "[11] + [15]\n",
    "\n",
    "[10, 5, 11, 15] # 피봇값 : 10\n",
    "[5] + [10] + [11] + [15]\n",
    "\n",
    "[32, 10, 5, 11, 15] # 피봇값 : 32\n",
    "[5] + [10] + [11] + [15] + [32]\n",
    "\n",
    "[54, 32, 10, 5, 11, 15] # 피봇값 : 54\n",
    "[5] + [10] + [11] + [15] + [32] + [54]\n",
    "\n",
    "[66, 77, 54, 32, 10, 5, 11, 15] # 피봇값 : 66\n",
    "[5] + [10] + [11] + [15] + [32] + [54] + [66] + [77]"
   ]
  },
  {
   "cell_type": "code",
   "execution_count": 94,
   "metadata": {},
   "outputs": [
    {
     "data": {
      "text/plain": [
       "[12, 22, 32, 33, 64, 72, 199, 222, 244]"
      ]
     },
     "execution_count": 94,
     "metadata": {},
     "output_type": "execute_result"
    }
   ],
   "source": [
    "def 퀵정렬(입력리스트):\n",
    "    입력리스트길이 = len(입력리스트)\n",
    "    if 입력리스트길이 <= 1:\n",
    "        return 입력리스트\n",
    "    기준값 = 입력리스트[-1] # 피봇값\n",
    "    그룹_하나 = []\n",
    "    그룹_둘 = []\n",
    "\n",
    "    for i in range(입력리스트길이 - 1):\n",
    "        if 입력리스트[i] < 기준값:\n",
    "            그룹_하나.append(입력리스트[i])\n",
    "        else:\n",
    "            그룹_둘.append(입력리스트[i])\n",
    "    return 퀵정렬(그룹_하나) + [기준값] + 퀵정렬(그룹_둘)\n",
    "\n",
    "주어진리스트 = [199, 22, 33, 12, 32, 64, 72, 222, 244]\n",
    "퀵정렬(주어진리스트)"
   ]
  },
  {
   "cell_type": "code",
   "execution_count": 80,
   "metadata": {},
   "outputs": [
    {
     "data": {
      "text/plain": [
       "'hh'"
      ]
     },
     "execution_count": 80,
     "metadata": {},
     "output_type": "execute_result"
    }
   ],
   "source": [
    "# 재귀함수(재귀함수 - 반복문)\n",
    "result = 1\n",
    "for i in range(1, 6):\n",
    "    result *= i\n",
    "result\n",
    "\n",
    "# 팩토리얼, 문자열 뒤집기, 시그마, 팰린드롬, 피보나치\n",
    "def factorial(n):\n",
    "    if n <= 1:\n",
    "        return n\n",
    "    else:\n",
    "        return n * factorial(n-1)\n",
    "    \n",
    "factorial(5)\n",
    "\n",
    "# factorial (5) 5 * factorial(4) 5 * 24\n",
    "# factorial (4) 4 * factorial(3) 4 * 6\n",
    "# factorial (3) 3 * factorial(2) 3 * 2\n",
    "# factorial (2) 2 * factorial(1) 2 * 1\n",
    "# factorial (1) 1\n",
    "\n",
    "# 재귀로 했을 때의 장점\n",
    "# 대부분의 경우에 쓰지마세요. 복잡도가 많이 올라간 프로그램 안에서 재귀를 통해 모듈 단위 반복을 할 때 장점이 있음\n",
    "# 메모라이징 기법이나 다이나믹프로그래밍 등을 복합적으로 믹싱해서 사용할 경우"
   ]
  },
  {
   "cell_type": "code",
   "execution_count": 84,
   "metadata": {},
   "outputs": [
    {
     "data": {
      "text/plain": [
       "'dlrow olleh'"
      ]
     },
     "execution_count": 84,
     "metadata": {},
     "output_type": "execute_result"
    }
   ],
   "source": [
    "def 문자열뒤집기(s):\n",
    "    if len(s) <= 1:\n",
    "        return s\n",
    "    else:\n",
    "        return 문자열뒤집기(s[1:]) + s[0]\n",
    "\n",
    "문자열뒤집기('hello world')"
   ]
  },
  {
   "attachments": {},
   "cell_type": "markdown",
   "metadata": {},
   "source": [
    "https://school.programmers.co.kr/learn/courses/30/lessons/120903\n",
    "\n",
    "https://school.programmers.co.kr/learn/courses/30/lessons/120844\n",
    "\n",
    "https://school.programmers.co.kr/learn/courses/30/lessons/120888\n",
    "\n",
    "https://school.programmers.co.kr/learn/courses/30/lessons/120848(팩토리얼)\n",
    "\n",
    "https://school.programmers.co.kr/learn/courses/30/lessons/120583"
   ]
  },
  {
   "cell_type": "code",
   "execution_count": null,
   "metadata": {},
   "outputs": [],
   "source": [
    "s1 = 'abcd'\n",
    "s2 = 'abef'\n",
    "\n",
    "def solution(s1, s2):\n",
    "    return sum(map(lambda x: s1.count(x), s2))\n",
    "\n",
    "# map(함수, iterable) : map은 iterable을 순회하면서 함수를 각 요소마다 적용함\n",
    "\n",
    "def solution(s1, s2):\n",
    "    return sum(map(lambda 'a' : s1.count('a'), s2))\n",
    "# s1에 'a'가 1개 있으므로, 1 반환\n",
    "\n",
    "def solution(s1, s2):\n",
    "    return sum(map(lambda 'b' : s1.count('b'), s2))\n",
    "# s1에 'b'가 1개 있으므로, 1 반환\n",
    "\n",
    "def solution(s1, s2):\n",
    "    return sum(map(lambda 'e' : s1.count('e'), s2))\n",
    "# s1에 'e'가 없으므로, 0 반환\n",
    "\n",
    "def solution(s1, s2):\n",
    "    return sum(map(lambda 'f' : s1.count('f'), s2))\n",
    "# s1에 'f'가 없으므로, 0 반환\n",
    "\n",
    "# 반환된 값들이 리스트 형태로 반환됨\n",
    "# [1, 1, 0, 0]\n",
    "# sum([1, 1, 0, 0])\n",
    "# 2 출력"
   ]
  },
  {
   "cell_type": "code",
   "execution_count": 110,
   "metadata": {},
   "outputs": [
    {
     "data": {
      "text/plain": [
       "<map at 0x7f7fc028ceb0>"
      ]
     },
     "execution_count": 110,
     "metadata": {},
     "output_type": "execute_result"
    }
   ],
   "source": [
    "s1 = 'abcd'\n",
    "s2 = 'abef'\n",
    "\n",
    "def solution(s1, s2):\n",
    "    result = map(lambda x: s1.count(x), s2)\n",
    "    return result\n",
    "\n",
    "solution(s1, s2)"
   ]
  },
  {
   "cell_type": "code",
   "execution_count": 111,
   "metadata": {},
   "outputs": [
    {
     "data": {
      "text/plain": [
       "[1, 1, 0, 0]"
      ]
     },
     "execution_count": 111,
     "metadata": {},
     "output_type": "execute_result"
    }
   ],
   "source": [
    "s1 = 'abcd'\n",
    "s2 = 'abef'\n",
    "\n",
    "def solution(s1, s2):\n",
    "    result = map(lambda x: s1.count(x), s2)\n",
    "    return list(result)\n",
    "\n",
    "solution(s1, s2)"
   ]
  },
  {
   "cell_type": "code",
   "execution_count": 112,
   "metadata": {},
   "outputs": [
    {
     "data": {
      "text/plain": [
       "2"
      ]
     },
     "execution_count": 112,
     "metadata": {},
     "output_type": "execute_result"
    }
   ],
   "source": [
    "sum([1, 1, 0, 0])"
   ]
  },
  {
   "cell_type": "code",
   "execution_count": 106,
   "metadata": {},
   "outputs": [
    {
     "data": {
      "text/plain": [
       "3"
      ]
     },
     "execution_count": 106,
     "metadata": {},
     "output_type": "execute_result"
    }
   ],
   "source": [
    "l = [1, 2]\n",
    "\n",
    "sum(l)"
   ]
  }
 ],
 "metadata": {
  "kernelspec": {
   "display_name": "base",
   "language": "python",
   "name": "python3"
  },
  "language_info": {
   "codemirror_mode": {
    "name": "ipython",
    "version": 3
   },
   "file_extension": ".py",
   "mimetype": "text/x-python",
   "name": "python",
   "nbconvert_exporter": "python",
   "pygments_lexer": "ipython3",
   "version": "3.9.16"
  },
  "orig_nbformat": 4
 },
 "nbformat": 4,
 "nbformat_minor": 2
}
